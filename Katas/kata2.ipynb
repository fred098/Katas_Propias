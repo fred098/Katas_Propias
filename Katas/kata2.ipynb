{
 "cells": [
  {
   "cell_type": "markdown",
   "metadata": {},
   "source": [
    "#### Creando el entorno virtual.\n",
    "\n",
    "Para crear el entorno virtual se ejecuto la siguiente linea de comando: \n",
    "~~~\n",
    "python -m venv env\n",
    "~~~\n",
    "\n",
    "Para acceder al entorno virtual fue distinto. En la documentación decia que se tenia que acceder a la carpeta env/bin/ pero en mi caso, tuve que entrar a la carpeta env/Scripts/ y use el comando activate para acceder a el: \n",
    ".../env/Scripts/activate\n",
    "\n",
    "<img src=\"img/acceso_ent.png\">"
   ]
  },
  {
   "cell_type": "markdown",
   "metadata": {},
   "source": [
    "Ahora aparece en la linea de comando (env), esto indica que estamos dentro del entorno virtual y se instala una biblioteca con la siguiente linea de comando: \n",
    "\n",
    "~~~\n",
    "pip install python-dateutil\n",
    "~~~\n",
    "\n",
    "Tambien me recomendaba que actualizara el pip, por lo que use el comando: \n",
    "\n",
    "~~~\n",
    "python -m pip install --upgrade pip\n",
    "~~~\n",
    "\n",
    "<img src=\"img/instalando.png\">"
   ]
  },
  {
   "cell_type": "markdown",
   "metadata": {},
   "source": [
    "Despues use el comando pip freeze para ver la lista de bibliotecas, ahora deberia de mostrar la biblioteca que se instalo anteriormente\n",
    "\n",
    "\n",
    "<img src=\"img/verificacion.png\">"
   ]
  },
  {
   "cell_type": "markdown",
   "metadata": {},
   "source": [
    "Una vez que acabe de usar el entorno virtual, escribi en la linea de comando deactivate.bat para salir del entorno virtual.\n",
    "\n",
    " \n",
    "<img src=\"img/desactiva.png\">"
   ]
  }
 ],
 "metadata": {
  "language_info": {
   "name": "python"
  },
  "orig_nbformat": 4
 },
 "nbformat": 4,
 "nbformat_minor": 2
}
