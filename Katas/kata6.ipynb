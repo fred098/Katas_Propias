{
 "cells": [
  {
   "cell_type": "markdown",
   "metadata": {},
   "source": [
    "### Ejercicio 1. Crear y usar listas de Python\n",
    "\n",
    "#### Ejercicio: USar listas para almacenar nombres de planetas\n",
    "\n",
    "Las listas permiten almacenar calores en una sola variable. Comenzarás un proyecto sobre información planetaria creando una lista de planetas.\n",
    "\n",
    "Primero, crea una variable denominada planets. Agrega los ocho planetas (sin Plutón) a la lista. Muestra el numero de planetas.\n",
    "\n",
    "Segundo, agrega a Plutón a la lista que creaste. Luego muestra tanto el número de planetas como el ultimo planeta de la lista.\n",
    "\n",
    "&rarr; Notas.\n",
    "* Hago uso de un for para mostrar la informacion de la lista.\n",
    "* Dentro del print, uso el parametro end=\"\", para imprimir en una sola linea separada por algun caracter. (referencia: https://www.delftstack.com/es/howto/python/python-print-on-same-line/)\n",
    "* Para visualizar el ultimo elemento de la lista, uso lo siguiente: lista[-1]\n"
   ]
  },
  {
   "cell_type": "code",
   "execution_count": 2,
   "metadata": {},
   "outputs": [
    {
     "name": "stdout",
     "output_type": "stream",
     "text": [
      "Hay 8 planetas\n",
      "Mercurio, Venus, Tierra, Marte, Jupiter, Saturno, Urano, Neptuno, \n",
      "\n",
      "Se agrego el planeta Plutón y ahora hay 9 planetas\n",
      "Lista de planetas actualizada\n",
      "Mercurio, Venus, Tierra, Marte, Jupiter, Saturno, Urano, Neptuno, Plutón, "
     ]
    }
   ],
   "source": [
    "# Variable que tiene los nombres de los planetas\n",
    "planets = ['Mercurio', 'Venus','Tierra', 'Marte', 'Jupiter', 'Saturno', 'Urano', 'Neptuno']\n",
    "\n",
    "#Tamaño de la lista que determina el numero de datos que hay\n",
    "print(f\"Hay {len(planets)} planetas\")\n",
    "for planeta in planets:\n",
    "    print(planeta ,end=\", \")\n",
    "\n",
    "#Se agrega el planeta y se posiciona al final de la lista\n",
    "planets.append('Plutón')\n",
    "print(f\"\\n\\nSe agrego el planeta {planets[-1]} y ahora hay {len(planets)} planetas\")\n",
    "print(\"Lista de planetas actualizada\")\n",
    "for planeta in planets:\n",
    "    print(planeta ,end=\", \")\n"
   ]
  },
  {
   "cell_type": "markdown",
   "metadata": {},
   "source": [
    "## Ejercicio 2: Trabajando con datos de una lista\n",
    "\n",
    "#### Usar slices para recuperar partes de una lista\n",
    "Es posible que debas trabajar con diferentes secciones de una lista. En nuestro ejemplo, queremos mostrar planetas más ceca y mas lejos del sol de un planeta que el usuario ingresa por teclado.\n",
    "\n",
    "Primero, agregar el código para crear una lista con los planetas.\n",
    "\n",
    "Segundo, agregar código para solicitar al usuario un nombre. Debido a que las cadenas distinguen entre mayúsculas y minúsculas en Python, pídale al usuario que use una letra mayúscula para comenzar el nombre del planeta.\n",
    "\n",
    "Tercero, encontrar el planeta en la lista. Para determinar qué planetas están más cerca que el que ingresó el usuario, debes encontrar dónde está el planeta en la lista. Puedes utilizar index para realizar esta operación. Agrega el código para encontrar el índice del planeta.\n",
    "\n",
    "Cuarto, mostra planetas más cercanos al sol que el que el usuario ingresó. Con el índice determinado, ahora puedes agregar el código para mostrar los planetas más cercanos al sol.\n",
    "\n",
    "Quinto, mostrar planetas más alejados del sol que el que el usuario ingresó.Puedes usar el mismo índice para mostrar planetas más alejados del sol. Sin embargo, recuerda que el índice inicial se incluye cuando usas un slice. Como resultado, tendrás que agregar 1 al valor. Agrega el código para mostrar los planetas más alejados del sol.\n",
    "\n",
    "&rarr; Notas.\n",
    "* Se ingresa la lista de los planetas que se nos pide usar (los nombres los pongo en español).\n",
    "* Para la entrada de datos se usa input().\n",
    "* Para determinar la posición del dato se usa la función inde().\n",
    "* Se hace uso del slice list para recuperar informacion de un rango en especifico. "
   ]
  },
  {
   "cell_type": "code",
   "execution_count": 17,
   "metadata": {},
   "outputs": [
    {
     "name": "stdout",
     "output_type": "stream",
     "text": [
      "El planeta ingresado por el usuario es Tierra\n",
      "Esta en la posicion 2\n",
      "\n",
      "Planetas mas cercanos al sol: ['Mercurio', 'Venus']\n",
      "\n",
      "Panetas mas lejanos al sol: ['Marte', 'Jupiter', 'Saturno', 'Neptuno']\n"
     ]
    }
   ],
   "source": [
    "#Lista de planetas\n",
    "planets = ['Mercurio', 'Venus','Tierra', 'Marte', 'Jupiter', 'Saturno', 'Neptuno']\n",
    "\n",
    "#Se solicita al usuario un nuevo nombre\n",
    "dato = input(\"Ingrese el nombre del planeta (El nombre debe de empezar por mayuscula, ejemplo (Marte))\")\n",
    "\n",
    "#Se busca la posicion del dato\n",
    "pos_planeta = planets.index(dato)\n",
    "\n",
    "print(f\"\"\"El planeta ingresado por el usuario es {dato}\n",
    "Esta en la posicion {pos_planeta}\"\"\")\n",
    "\n",
    "#Muestra los planetas más cercanos al sol\n",
    "print(f\"\"\"\\nPlanetas mas cercanos al sol: {planets[0:pos_planeta]}\"\"\")\n",
    "\n",
    "#Muestra los planetas mas lejanos al sol\n",
    "print(f\"\"\"\\nPanetas mas lejanos al sol: {planets[pos_planeta+1:]}\"\"\")"
   ]
  }
 ],
 "metadata": {
  "interpreter": {
   "hash": "b89b5cfaba6639976dc87ff2fec6d58faec662063367e2c229c520fe71072417"
  },
  "kernelspec": {
   "display_name": "Python 3.10.2 64-bit",
   "language": "python",
   "name": "python3"
  },
  "language_info": {
   "codemirror_mode": {
    "name": "ipython",
    "version": 3
   },
   "file_extension": ".py",
   "mimetype": "text/x-python",
   "name": "python",
   "nbconvert_exporter": "python",
   "pygments_lexer": "ipython3",
   "version": "3.10.2"
  },
  "orig_nbformat": 4
 },
 "nbformat": 4,
 "nbformat_minor": 2
}
