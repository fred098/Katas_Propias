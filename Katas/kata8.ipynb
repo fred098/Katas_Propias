{
 "cells": [
  {
   "cell_type": "markdown",
   "metadata": {},
   "source": [
    "### Ejercicio 1: Creación de diccionarios de Python\n",
    "\n",
    "#### Ejercicio: Crear y modificar un diccionario de Python\n",
    "\n",
    "Un diccionario se indica en Python mediante el uso de llaves ({ }), con pares clave/valor separados por dos puntos (:). Las claves son literales de cadena y los valores pueden ser de cualquier tipo de datos.{ }:\n",
    "~~~\n",
    "demo = {\n",
    "    'key': 'value',\n",
    "    'number': 42\n",
    "}\n",
    "~~~\n",
    "Para este ejercicio, crearás un diccionario que almacene información sobre el planeta Marte.\n",
    "\n",
    "Primero, agrega el código para crear un nuevo diccionario denominado 'planet'. Rellena con la siguiente información:\n",
    "\n",
    "    name: Mars\n",
    "    moons: 2\n",
    "\n",
    "Segundo, mostramos el nombre del planeta y las lunas que tiene.\n",
    "\n",
    "Tercero, agregar un nuevo valor con una clave de 'circunferencia (km)'. Este nuevo valor debería almacenar un diccionario con las dos circunferencias del planeta:\n",
    "\n",
    "    polar: 6752\n",
    "    equatorial: 6792\n",
    "\n",
    "Cuarto, imprime el nombre del planeta con su circunferencia polar.\n",
    "\n",
    "&rarr; Notas\n",
    "* Para crear un diccionario, aplique la información del apartado \"Creación de un diccionario\"\n",
    "\n",
    "* Para realizar lo del tercer punto, aplique la informacion del apartado \"Tipos de data complejos\"\n",
    "\n",
    "* Para imprimir los datos del diccionario, aplique la informacion del apartado \"Lectura de los valores de un diccionario\" y para mostrar los datos del cuarto punto, aplique la información de \"Tipos de data complejos\""
   ]
  },
  {
   "cell_type": "code",
   "execution_count": 1,
   "metadata": {},
   "outputs": [
    {
     "name": "stdout",
     "output_type": "stream",
     "text": [
      "Planeta: Mars \n",
      "Numero de lunas: 2\n",
      "\n",
      "Nombre del planeta: Mars\n",
      "Circunferencia polar: 6752\n"
     ]
    }
   ],
   "source": [
    "#Creacion del diccionario\n",
    "planet = {\n",
    "    'name': 'Mars',\n",
    "    'moons': 2\n",
    "}\n",
    "\n",
    "#Se muestran los datos que tiene el diccionario\n",
    "print(f\"Planeta: {planet.get('name')} \\nNumero de lunas: {planet.get('moons')}\")\n",
    "\n",
    "#Se agregar una clave al diccionario.\n",
    "planet['circunferencia (km)']={\n",
    "    'polar': 6752,\n",
    "    'equatorial': 6792\n",
    "}\n",
    "\n",
    "#Nombre del planeta con su circunferencia polar \n",
    "print(f\"\\nNombre del planeta: {planet.get('name')}\\nCircunferencia polar: {planet['circunferencia (km)']['polar']}\")"
   ]
  },
  {
   "cell_type": "markdown",
   "metadata": {},
   "source": [
    "### Ejercicio 2: Programación dinámica con diccionarios\n",
    "#### Ejercicio: Cálculo de valores\n",
    "\n",
    "En este escenario, calcularás tanto el número total de lunas en el sistema solar como el número promedio de lunas que tiene un planeta.\n",
    "\n",
    "Primero, agregar el código a continuación para determinar el número de lunas. Almacena el valor values de planet_moons en una variable denominada moons. A continuación, almacena el número de planetas en una variable denominada planets.\n",
    "\n",
    "Segundo, agregar el código para contar el número de lunas. Se crea un ciclo for para iterar a través de las lunas moons y agregándolos a una variable denominada total_moons. Finalmente calcule el promedio dividiendo total_moons por planets e imprimiendo los resultados.\n",
    "\n",
    "&rarr; Notas.\n",
    "* Se utiliza el for para ir almacenando la suma, para ello se hace uso de la variable moons.\n",
    "\n",
    "* Hacemos uso de dos formas distintas de mostrar los datos para poner en practica lo aprendido.\n",
    "\n",
    "* Se usa la función round para mostrar solo dos decimales del resultado obtenido del promedio."
   ]
  },
  {
   "cell_type": "code",
   "execution_count": 2,
   "metadata": {},
   "outputs": [
    {
     "name": "stdout",
     "output_type": "stream",
     "text": [
      "Total de lunas:  213\n",
      "Promedio: 19.36\n"
     ]
    }
   ],
   "source": [
    "# Planets and moons\n",
    "\n",
    "planet_moons = {\n",
    "    'mercury': 0,\n",
    "    'venus': 0,\n",
    "    'earth': 1,\n",
    "    'mars': 2,\n",
    "    'jupiter': 79,\n",
    "    'saturn': 82,\n",
    "    'uranus': 27,\n",
    "    'neptune': 14,\n",
    "    'pluto': 5,\n",
    "    'haumea': 2,\n",
    "    'makemake': 1,\n",
    "}\n",
    "\n",
    "#Determinamos el numero de lunas\n",
    "moons = planet_moons.values()\n",
    "\n",
    "#Se almacena el numero de planetas\n",
    "num_planets = planet_moons.keys()\n",
    "planets = len(num_planets)\n",
    "\n",
    "\n",
    "total_moons =0  #contador de lunas\n",
    "promedio= 0.0   #Variable que guarda el promedio\n",
    "for valor in moons:\n",
    "    total_moons = total_moons + valor\n",
    "\n",
    "print(\"Total de lunas: \",str(total_moons))\n",
    "\n",
    "promedio = total_moons / planets\n",
    "print(f\"Promedio: {round(promedio,2)}\")\n",
    "\n",
    "\n"
   ]
  }
 ],
 "metadata": {
  "interpreter": {
   "hash": "b89b5cfaba6639976dc87ff2fec6d58faec662063367e2c229c520fe71072417"
  },
  "kernelspec": {
   "display_name": "Python 3.10.2 64-bit",
   "language": "python",
   "name": "python3"
  },
  "language_info": {
   "codemirror_mode": {
    "name": "ipython",
    "version": 3
   },
   "file_extension": ".py",
   "mimetype": "text/x-python",
   "name": "python",
   "nbconvert_exporter": "python",
   "pygments_lexer": "ipython3",
   "version": "3.10.2"
  },
  "orig_nbformat": 4
 },
 "nbformat": 4,
 "nbformat_minor": 2
}
