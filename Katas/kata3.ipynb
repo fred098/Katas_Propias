{
 "cells": [
  {
   "cell_type": "markdown",
   "metadata": {},
   "source": [
    "### Ejercicio- Escribir declaraciones if, else, y elif"
   ]
  },
  {
   "cell_type": "markdown",
   "metadata": {},
   "source": [
    "### Ejercicio 1\n",
    "Para este ejercicio, escribirás una logica condicional que imprima una advertencia si un asteroide se acerca a la Tierra demasiado rápido. La velocidad del asteroide varía dependiendo de lo cerca que esté del sol, y cualquier velocidad superior a 25 kilómetros por segundo (km/s) merece una advertencia.\n",
    "\n",
    "Un asteroide se acerca, y viaja a una velocidad de 49 km/s"
   ]
  },
  {
   "cell_type": "markdown",
   "metadata": {},
   "source": [
    "Analisis del problema. \n",
    "\n",
    "1. Se pide mostrar un mensaje de advertencia si la variable que contiene la velocidad del asteroide es mayor a 25.\n",
    "2. Entonces si la variable que contiene la velocidad del asteroide es menor o igual a 25 se mostrara un mensaje de que no hay peligro alguno.\n",
    "3. Del punto anterior se puede considerar dos condiciones:\n",
    "    * Se puede poner la condicion de que, la velocidad sea menor a 25 y mostrar el mensaje de que no existe algun peligro.\n",
    "    \n",
    "    * Del punto 1, vemos que dice que si la velocidad es superior a 25 mandemos un mensaje de advertencia, por lo que la condición tambien puede considerar que la velocidad limite es 25, osea que esa velocidad aun es aceptable para mandar un mensaje de que no hay alguna amenaza.\n"
   ]
  },
  {
   "cell_type": "code",
   "execution_count": 1,
   "metadata": {},
   "outputs": [
    {
     "name": "stdout",
     "output_type": "stream",
     "text": [
      "No hay ningun peligro el asteroide viene a una velocidad de: 25 km/s\n"
     ]
    }
   ],
   "source": [
    "#Asignacion de dato a una vaariable\n",
    "vel_asteroide = 25\n",
    "\n",
    "#Si la velocidad del asteroide es menor o igual a 25 se mostrara un mensaje de que\n",
    "#no hay alguna amaneza, si es False la condicion mostrara el mensaje de advertencia.\n",
    "if(vel_asteroide <= 25):\n",
    "    print(\"No hay ningun peligro el asteroide viene a una velocidad de: \"+str(vel_asteroide)+\" km/s\")\n",
    "else:\n",
    "    print(\"¡Advertencia! Un asteroide se acerca a una velocidad de: \"+str(vel_asteroide)+\" km/s\")\n"
   ]
  },
  {
   "cell_type": "markdown",
   "metadata": {},
   "source": [
    "### Ejercicio 2\n",
    "Si un asteroide entra a la atmosfera de la Tierra a una velocidad mayor o igual a 20 km/s a veces produce un rayo de luz que se puede ver desde la tierra. Escriba la lógica condicional que usa declaraciones if, else, y elif para alertar a las personas del todo el mundo que deben buscar un asteroide en el cielo. ¡Hay uno que se dirige a la tierra ahora a una velocidad de 19 km/s!"
   ]
  },
  {
   "cell_type": "markdown",
   "metadata": {},
   "source": [
    "Analisis del problema \n",
    "\n",
    "Para este problema solo se pudo haber usado una condicion, la condicion hubiera sido la siguiente: if vel_asteroide >= 20, pero se nos pide usar las declaraciones if, else y elif, por lo que, la estructura cambia de la siguiente manera: \n",
    "~~~\n",
    "if a > 20:\n",
    "    mensaje\n",
    "elif a == 20:\n",
    "    mensaje\n",
    "else:\n",
    "    mensaje\n",
    "~~~\n",
    "La primera condicion (a>20) da a entender que el asteroide tiene una velocidad mayor a 20.\n",
    "Si no viene a una velocidad mayor de 20, entonces podriamos pensar que su velocidad es 20 (entra a la condicion elif), pero si no es ninguna de las anteriores, entonces indicaria que no esta pasando un asteroide.\n"
   ]
  },
  {
   "cell_type": "code",
   "execution_count": 1,
   "metadata": {},
   "outputs": [
    {
     "name": "stdout",
     "output_type": "stream",
     "text": [
      "No se ve ningun rayo de luz\n"
     ]
    }
   ],
   "source": [
    "#asigancion de dato a una variable\n",
    "vel_asteroide = 19\n",
    "\n",
    "#Condiciones\n",
    "if vel_asteroide > 20:\n",
    "    print(\"Se ve un rayo de luz, ¡Sal, hay un asteroide pasando!\")\n",
    "elif vel_asteroide == 20:\n",
    "    print(\"-Se ve un rayo de luz, ¡Sal, hay un asteroide pasando!\")\n",
    "else:\n",
    "    print(\"No se ve ningun rayo de luz\")\n"
   ]
  },
  {
   "cell_type": "markdown",
   "metadata": {},
   "source": [
    "### Ejercicio 3: Uso de operadores and y or\n",
    "Los asteroides de menos de 25 metros en su dimensión más grande probablemente se quemarán a medida que entren en la atmósfera de la Tierra.\n",
    "\n",
    "* Si una pieza de un asteroide que es más grande que 25 metros pero más pequeña que 1000 metros golpeara la Tierra, causaría mucho daño.\n",
    "\n",
    "También discutimos en el ejercicio anterior que:\n",
    "\n",
    "* La velocidad del asteroide varía en función de lo cerca que esté del sol, y cualquier velocidad superior a 25 kilómetros por segundo (km/s) merece una advertencia.\n",
    "\n",
    "* Si un asteroide entra en la atmósfera de la Tierra a una velocidad mayor o igual a 20 km/s, a veces produce un rayo de luz que se puede ver desde la Tierra.\n",
    "\n",
    "Usando toda esta información, escribe un programa que emita la advertencia o información correcta a la gente de la Tierra, según la velocidad y el tamaño de un asteroide. Utiliza instrucciones if, else, y elif, así como los operadores and y or."
   ]
  },
  {
   "cell_type": "markdown",
   "metadata": {},
   "source": [
    "Analisis del problema\n",
    "1. Necesitamos tener dos variables las cuales tengan almacenado la velocidad y el tamaño del asteroide.\n",
    "\n",
    "2. La primera condición que encontramos es respecto al tamaño del asteroide, si el tamaño del asteroide es menor a 25 no significa un riesgo, y se puede mandar un mensaje de que no hay algun problema. Por lo que, se deduce que si el tamaño es mayor a 25 (condición) entonces si se tendría que mandar un mensaje de advertencia.\n",
    "\n",
    "3. Hay otra condición, si la velocidad de del asteroide es mayor a 25 se deberia de mandar un mensaje de advertencia, sino ocurre esto se manda un mensaje de que no hay amenaza . \n",
    "\n",
    "4. Ahora bien, si la velocidad del asteroide es mayor o igual a 20, se debe de mandar un mensaje de que hay un rayo de luz, caso contrario mandar un mensaje de que no hay nada.\n",
    "\n",
    "Una vez que se identifican las condiciones, solo queda proponer las condiciones para que muestren los resultados correctos."
   ]
  },
  {
   "cell_type": "code",
   "execution_count": 2,
   "metadata": {},
   "outputs": [
    {
     "name": "stdout",
     "output_type": "stream",
     "text": [
      "Se puede ver un rayo de luz ¡Puede ser un asteroide!\n"
     ]
    }
   ],
   "source": [
    "#Asignacion de variables\n",
    "vel_asteroide = 28\n",
    "tam_asteroide = 24\n",
    "\n",
    "#Condiciones, la condicion inicial toma los valores para que se consideran para mandar un mensaje de advertencia,\n",
    "#en caso contrario a ello se desglosan las demás condiciones.\n",
    "if vel_asteroide> 25 and (tam_asteroide > 25 and tam_asteroide < 1000):\n",
    "    print(\"¡Advertencia! Se detecto un asteroide peligroso\")\n",
    "elif vel_asteroide>= 20:\n",
    "    print(\"Se puede ver un rayo de luz ¡Puede ser un asteroide!\")\n",
    "elif tam_asteroide <25:\n",
    "    print(\"No hay amenaza de asteroide\")\n",
    "else:\n",
    "    print(\"No hay ninguna amenaza de asteroide\")\n"
   ]
  }
 ],
 "metadata": {
  "interpreter": {
   "hash": "b89b5cfaba6639976dc87ff2fec6d58faec662063367e2c229c520fe71072417"
  },
  "kernelspec": {
   "display_name": "Python 3.10.2 64-bit",
   "language": "python",
   "name": "python3"
  },
  "language_info": {
   "codemirror_mode": {
    "name": "ipython",
    "version": 3
   },
   "file_extension": ".py",
   "mimetype": "text/x-python",
   "name": "python",
   "nbconvert_exporter": "python",
   "pygments_lexer": "ipython3",
   "version": "3.10.2"
  },
  "orig_nbformat": 4
 },
 "nbformat": 4,
 "nbformat_minor": 2
}
