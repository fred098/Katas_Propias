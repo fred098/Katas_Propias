{
 "cells": [
  {
   "cell_type": "markdown",
   "metadata": {},
   "source": [
    "## Programa 1: Mostrar fecha\n",
    "Construir un programa que muestre la fecha usando Jupyter Notebook.\n",
    "\n",
    "&rarr; Notas\n",
    "* Se debe de usar la libreria datetime para invoncar sus funciones.\n",
    "* Para mostrar la fecha junto con una cadena se usa la función str().\n",
    "* Para concatenar dos tipos de datos se usa el operador +.\n"
   ]
  },
  {
   "cell_type": "code",
   "execution_count": 2,
   "metadata": {},
   "outputs": [
    {
     "name": "stdout",
     "output_type": "stream",
     "text": [
      "Today's date is: 2022-02-09\n"
     ]
    }
   ],
   "source": [
    "from datetime import date\n",
    "\n",
    "#Impresión de una cadena junto con la fecha\n",
    "print(\"Today's date is: \"+str(date.today()))"
   ]
  },
  {
   "cell_type": "markdown",
   "metadata": {},
   "source": [
    "## Programa 2: Construir un convertidos de unidades\n",
    "Construir un programa de conversión entre parsecs y años luz. \n",
    "\n",
    "&rarr; Notas\n",
    "* En el codigo que se nos proporciona se usa la asignacion de datos a una variable.\n",
    "* Se usan dos tipos de datos en esta parte, una variable de tipo entero (parsec) y una variable de tipo Real (lightyears)\n",
    "* Debido a que se usan cadenas y datos numericos, se debe de usar la funcion str() y concatenar los datos con el operador + para poder visualizar el letrero\n",
    "* Un parsec equivale a 3.26156, por lo que se necesita multiplicar la variable parsec * 3.26156\n"
   ]
  },
  {
   "cell_type": "code",
   "execution_count": 3,
   "metadata": {},
   "outputs": [
    {
     "name": "stdout",
     "output_type": "stream",
     "text": [
      "11 parsec, is 35.877159999999996 lightyears\n"
     ]
    }
   ],
   "source": [
    "#Variable de tipo entero\n",
    "parsec = 11\n",
    "\n",
    "#Variable de tipo real\n",
    "lightyears = parsec * 3.26156\n",
    "\n",
    "#Impresión de los resultados\n",
    "print(str(parsec)+ \" parsec, is \"+ str(lightyears) + \" lightyears\")"
   ]
  }
 ],
 "metadata": {
  "interpreter": {
   "hash": "b89b5cfaba6639976dc87ff2fec6d58faec662063367e2c229c520fe71072417"
  },
  "kernelspec": {
   "display_name": "Python 3.10.2 64-bit",
   "language": "python",
   "name": "python3"
  },
  "language_info": {
   "codemirror_mode": {
    "name": "ipython",
    "version": 3
   },
   "file_extension": ".py",
   "mimetype": "text/x-python",
   "name": "python",
   "nbconvert_exporter": "python",
   "pygments_lexer": "ipython3",
   "version": "3.10.2"
  },
  "orig_nbformat": 4
 },
 "nbformat": 4,
 "nbformat_minor": 2
}
