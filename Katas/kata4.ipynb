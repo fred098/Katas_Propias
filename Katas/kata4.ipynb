{
 "cells": [
  {
   "cell_type": "markdown",
   "metadata": {},
   "source": [
    "### Ejercicio 1: Transformar cadenas\n",
    "Hay varias operaciones que puedes realizar en las cadenas cuando las manipulamos. En este ejercicio, usarás métodos de cadena para modificar el texto con hechos sobre la Luna y luego extraerás información para crear un breve resumen.\n",
    "\n",
    "El texto con el que trabajarás es el siguiente:"
   ]
  },
  {
   "cell_type": "markdown",
   "metadata": {},
   "source": [
    "Primero, divide el texto en cada oración para trabajar con su contenido:\n",
    "\n",
    "&rarr; Notas.\n",
    "* Para dividir una cadenas se usa el método .split().\n",
    "\n",
    "* Dado que tenemos que separarlo por oraciones, la funcion spilt() debera tener como parametro split('. ')\n",
    "\n",
    "Segundo, define algunas palabras clave para busqueda que te ayudarán a determinar si una oración contiene un hecho.\n",
    "\n",
    "&rarr; Notas.\n",
    "* Se nos pide definir palabras clave para buscar dentro de la cadena de texto, por lo que se puede poner un arreglo, el cual contendra las palabras clave, o bien si solo se quiere ocupar solo una palabra, solo se define una variable, aunque es mas efectivo el arreglo ya que podemos almacenar varias palabras.\n",
    "\n",
    "* Un arreglo se define de la siguiente manera: array[], y como almacenaremos palabras, estas deberan estar encerradas entre comillas dobles (\" \") y separadas por comas. Por ejemplo: array[\"palabra1\",\"palabra2\"]\n",
    "\n",
    "Tercero, cre un bucle para imprimir solo datos sobre la Luna que estén relacionados con las palabras clave definidas anteriormente.\n",
    "\n",
    "&rarr; Notas.\n",
    "* Para realizar esta acción se necesitan anidar dos ciclos for, el primer ciclo nos ayudara a recorrer el texto que se dividio por oraciones, el segundo ciclo for nos ayuadara a recorrer el arreglo que contiene a las palabras clave.\n",
    "* Para compara si la palabra clave esta en el texto dividido usamos el operador in.\n",
    "\n",
    "Cuarto, actualiza el bucle(ciclo) para cambiar C a Celsius:"
   ]
  },
  {
   "cell_type": "code",
   "execution_count": 1,
   "metadata": {},
   "outputs": [
    {
     "name": "stdout",
     "output_type": "stream",
     "text": [
      "['Interesting facts about the Moon', \" The Moon is Earth's only satellite\", ' There are several interesting facts about the Moon and how it affects life here on Earth', ' \\nOn average, the Moon moves 4cm away from the Earth every year', ' This yearly drift is not significant enough to cause immediate effects on Earth', ' The highest daylight temperature of the Moon is 127 C', '']\n",
      "\n",
      "Busqueda de palabras clave en el Texto\n",
      "\n",
      " There are several interesting facts about the Moon and how it affects life here on Earth\n",
      " The highest daylight temperature of the Moon is 127 C\n",
      "\n",
      "Se cambia C por Celcius\n",
      "\n",
      "Interesting facts about the Moon\n",
      " The Moon is Earth's only satellite\n",
      " There are several interesting facts about the Moon and how it affects life here on Earth\n",
      " \n",
      "On average, the Moon moves 4cm away from the Earth every year\n",
      " This yearly drift is not significant enough to cause immediate effects on Earth\n",
      " The highest daylight temperature of the Moon is 127 Celcius\n",
      "\n"
     ]
    }
   ],
   "source": [
    "text = \"\"\"Interesting facts about the Moon. The Moon is Earth's only satellite. There are several interesting facts about the Moon and how it affects life here on Earth. \n",
    "On average, the Moon moves 4cm away from the Earth every year. This yearly drift is not significant enough to cause immediate effects on Earth. The highest daylight temperature of the Moon is 127 C.\"\"\"\n",
    "\n",
    "#Se divide el texto por oraciones. Por lo que, en la función split() tendra como parametro split('.') \n",
    "text_div = text.split('.')\n",
    "print(text_div)\n",
    "\n",
    "#Se guardan las palabras clave\n",
    "palabras_clave = [\"life\",\"daylight\"]\n",
    "\n",
    "print(\"\\nBusqueda de palabras clave en el Texto\\n\")\n",
    "for text in text_div:               #Se recorre el texto de la variable text_div\n",
    "    for clave in palabras_clave:    #Se recorre el arreglo de las palabras clave\n",
    "        if(clave in text):\n",
    "            print(text)\n",
    "            \n",
    "\n",
    "print(\"\\nSe cambia C por Celcius\\n\")\n",
    "for text in text_div:               #Se recorre el texto de la variable text_div            \n",
    "    print(text.replace('C','Celcius'))\n",
    "    "
   ]
  },
  {
   "cell_type": "markdown",
   "metadata": {},
   "source": [
    "### Ejercicio 2\n",
    "Saber cómo dar formato a las cadenas es esencial cuando se presenta información de un programa. Hay algunas maneras diferentes de lograr esto en Python. En este ejercicio, se utilizan variables que contienen datos clave sobre la gravedad en varias lunas y luego se utilizan para dar formato e imprimir la información.\n",
    "\n",
    "El formato tiene que acomodar información sobre otras lunas, por lo que debe ser genérico.\n",
    "\n",
    "En lugar de reemplazar las variables en una cadena larga como parte de un párrafo, utiliza la información para presentarla en un formato tabular. El resultado debería verse así:\n",
    "~~~\n",
    "Gravity Facts about Ganymede\n",
    "----------------------------------------------------\n",
    "Planet Name: Mars\n",
    "Gravity on Ganymede: 1.4300000000000002 m/s2\n",
    "~~~\n",
    "\n",
    "Primero, crea un título para el texto. Debido a que este texto trata sobre la gravedad en la Tierra y la Luna, úsalo para crear un título significativo. Utiliza las variables en lugar de escribir.\n",
    "\n",
    "&rarr; Notas.\n",
    "\n",
    "* Hacemos uso de las cadenas con f, esto nos permite tener las variables dentro del texto.\n",
    "* Usamos la función title() para definir el titulo.\n",
    "\n",
    "\n",
    "Segundo, ahora crea una plantilla de cadena multilínea para contener el resto de la información. En lugar de usar kilómetros, debes convertir la distancia a metros multiplicando por 1,000.\n",
    "\n",
    "&rarr; Notas.\n",
    "\n",
    "* Hacemos uso de las cadenas con f, tambien nos permite hacer operaciones dentro de los corchetes y ademas podemos mostrar cadenas linea por linea.\n",
    "\n",
    "Tercero,ahora usa información de una luna diferente para ver si la plantilla todavía funciona.\n",
    "\n",
    "Datos muestra:\n",
    "\n",
    "    planeta = 'Marte '\n",
    "    gravedad  = 0.00143\n",
    "    nombre = 'Ganímedes'\n",
    "\n",
    "Cuarto, la salida no muestra información sobre Marte. Todavía muestra información sobre la Luna. Esto sucede porque las cadenas f están ansiosas en su evaluación, por lo que las variables una vez asignadas no se pueden reasignar. Para evitar este problema, vuelva a hacer la plantilla para utilizar .format():\n",
    "\n",
    "Quinto, debido a que .format() no permite expresiones, la gravedad en Ganímedes es incorrecta. Asegúrese de que la operación se realiza fuera de la plantilla de formato e imprima de nuevo para ver el resultado de trabajo.\n"
   ]
  },
  {
   "cell_type": "code",
   "execution_count": 2,
   "metadata": {},
   "outputs": [
    {
     "name": "stdout",
     "output_type": "stream",
     "text": [
      "La Gravedad Entre Moon Y Earth \n",
      "-----------------------------------------------\n",
      "Nombre del planeta: Earth\n",
      "Gravedad en Moon: 1.6199999999999999 m/s2\n",
      "\n",
      "\n",
      "La Gravedad Entre Ganímedes Y Marte\n",
      "-----------------------------------------------\n",
      "Nombre del planeta: Marte\n",
      "Gravedad en Ganímedes: 1.4300000000000002 m/s2\n",
      "\n"
     ]
    }
   ],
   "source": [
    "# Datos con los que vas a trabajar\n",
    "name = \"Moon\"\n",
    "gravity = 0.00162 # en kms\n",
    "planet = \"Earth\"\n",
    "\n",
    "#Creamos el titulo\n",
    "titulo = f\"La gravedad entre {name} y {planet}\"\n",
    "\n",
    "#plantilla que contien la informacion\n",
    "info = f\"\"\"-----------------------------------------------\n",
    "Nombre del planeta: {planet}\n",
    "Gravedad en {name}: {gravity*1000} m/s2\n",
    "\"\"\"\n",
    "\n",
    "union = f\"\"\"{titulo.title()} \n",
    "{info}\"\"\"\n",
    "\n",
    "#Datos nuevos--------------------------------------------\n",
    "planet = 'Marte'\n",
    "gravity  = 0.00143\n",
    "name = 'Ganímedes'\n",
    "\n",
    "\n",
    "print(union)\n",
    "\n",
    "#Nueva plantilla\n",
    "t = f\"La gravedad entre {name} y {planet}\".title()\n",
    "plantilla_nueva =f\"\"\"\n",
    "{t}\n",
    "-----------------------------------------------\n",
    "Nombre del planeta: {planet}\n",
    "Gravedad en {name}: {gravity*1000} m/s2\n",
    "\"\"\"\n",
    "print(plantilla_nueva.format(planet=planet, name = name, gravity=gravity))\n"
   ]
  }
 ],
 "metadata": {
  "interpreter": {
   "hash": "b89b5cfaba6639976dc87ff2fec6d58faec662063367e2c229c520fe71072417"
  },
  "kernelspec": {
   "display_name": "Python 3.10.2 64-bit",
   "language": "python",
   "name": "python3"
  },
  "language_info": {
   "codemirror_mode": {
    "name": "ipython",
    "version": 3
   },
   "file_extension": ".py",
   "mimetype": "text/x-python",
   "name": "python",
   "nbconvert_exporter": "python",
   "pygments_lexer": "ipython3",
   "version": "3.10.2"
  },
  "orig_nbformat": 4
 },
 "nbformat": 4,
 "nbformat_minor": 2
}
