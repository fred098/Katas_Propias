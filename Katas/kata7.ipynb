{
 "cells": [
  {
   "cell_type": "markdown",
   "metadata": {},
   "source": [
    "### Ejercicio 1: Creación de un bucle \"While\"\n",
    "En este ejercicio, estás creando una aplicación que solicita a un usuario que ingrese una lista de de planetas. En un ejercicio posterior, agregarás código que muestre la lista. Por ahora, crearas solo el codigo que solicita al usuario la lista de planetas.\n",
    "\n",
    "&rarr; Notas.\n",
    "* Hay una gran diferencia entre poner la lectura de datos despues del while que poner la lectura al final del while.\n",
    "\n",
    "~~~\n",
    "(a)                                 (b)\n",
    "while (condicion):                  while(condicion):\n",
    "    lectura de datos                    instrucciones\n",
    "        .                                   .\n",
    "        .                                   .\n",
    "    Instrucciones                       lectura de datos\n",
    "~~~\n",
    "\n",
    "Si se hace el uso de la opción (a), la palabra que tengamos como condición para que pare el programa, se almacenara en nuestra lista. Sin embargo, si usamos la opción (b) no se guardara la palabra que se puso como condición.\n",
    "\n",
    "### Ejerecicio 2: Creación de un ciclo \"for\"\n",
    "En el ejercicio anterior, creaste código para solicitar a los usuarios que introduzcan una lista de nombres de planetas. En este ejercicio, completarás la aplicación escribiendo código que muestre los nombres de esos planetas.\n",
    "\n",
    "&rarr; Notas.\n",
    "* Dentro del print, uso el parametro end=\"\", para imprimir en una sola linea separada por algun caracter. (referencia: https://www.delftstack.com/es/howto/python/python-print-on-same-line/)\n",
    "\n",
    "* Como extra, imprimo el tamaño de la lista que, debe de coincidir con el numero de datos que hay en la misma."
   ]
  },
  {
   "cell_type": "code",
   "execution_count": 1,
   "metadata": {},
   "outputs": [
    {
     "name": "stdout",
     "output_type": "stream",
     "text": [
      "Venus Tierra Marte Jupiter \n",
      "Tamaño del arreglo 4\n"
     ]
    }
   ],
   "source": [
    "planets= []\n",
    "new_planet = \"\"\n",
    "\n",
    "while new_planet.lower() != 'd':\n",
    "    #new_planet = input(\"Ingrese planeta\")\n",
    "\n",
    "    #Verifica si la variable new_planet contiene un valor\n",
    "    if new_planet:\n",
    "        planets.append(new_planet)\n",
    "    new_planet = input(\"Ingrese planeta\")   \n",
    "\n",
    "#Impresión de datos separados por una coma.\n",
    "for planet in planets:\n",
    "    print(planet, end=\" \")\n",
    "\n",
    "print(\"\\nTamaño del arreglo\", len(planets))\n"
   ]
  }
 ],
 "metadata": {
  "interpreter": {
   "hash": "b89b5cfaba6639976dc87ff2fec6d58faec662063367e2c229c520fe71072417"
  },
  "kernelspec": {
   "display_name": "Python 3.10.2 64-bit",
   "language": "python",
   "name": "python3"
  },
  "language_info": {
   "codemirror_mode": {
    "name": "ipython",
    "version": 3
   },
   "file_extension": ".py",
   "mimetype": "text/x-python",
   "name": "python",
   "nbconvert_exporter": "python",
   "pygments_lexer": "ipython3",
   "version": "3.10.2"
  },
  "orig_nbformat": 4
 },
 "nbformat": 4,
 "nbformat_minor": 2
}
