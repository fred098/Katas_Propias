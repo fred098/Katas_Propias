{
 "cells": [
  {
   "cell_type": "markdown",
   "metadata": {},
   "source": [
    "### Ejercicio: Uso de funciones en Python\n",
    "\n",
    "#### Ejercicio 1: Trabajar con argumentos en funciones.\n",
    "\n",
    "En este ejercicio, se construira un informe de combustible que requiere información de varias ubicaciones de combustibles en todo el cohete.\n",
    "\n",
    "1. Crear una función que necesite tres lecturas de combustible y devuelva un informe.\n",
    "\n",
    "2. Ahora que se ha definido la función de informes, vamos a comprobarlo. Para esta misión, los tanques no están llenos.\n",
    "\n",
    "3. En lugar de crear un simple informe, la función tambien está calculando el promedio. Se puede mejorar la legibilidad extrayendo el cálculo promedio de la función en una nueva función para que el promedio se pueda hacer de forma independiente.\n",
    "\n",
    "4. Actualiza la función de informes llamando a la nueva función del promedio.\n",
    "\n",
    "&rarr; Notas.\n",
    "* Para visualizar el texto que se genera en la función reporte, se usa la informacion de la documentación.\n",
    "\n",
    "* Para obtener el promedio se puede hacer de dos maneras \n",
    "    1. se puede generar un arreglo y guardar los datos en el y, posteriormente se suman los datos del arreglo y se obtiene el numero de datos para sacar su promedio. \n",
    "    \n",
    "    2. Otra manera es la que implemente, pasar por argumentos los datos que se reciben en la función reporte y pasar nuevamente esos datos como argumentos para la función promedio.\n",
    "    \n",
    "* Agregue la función round() debido a que en algunas pruebas salian varios decimales, y con la función solo apareceran dos decimales."
   ]
  },
  {
   "cell_type": "code",
   "execution_count": 1,
   "metadata": {},
   "outputs": [
    {
     "name": "stdout",
     "output_type": "stream",
     "text": [
      "Reporte de combustible\n",
      "Tanque principal: 80 %\n",
      "Tanque externo: 75 %\n",
      "Tanque de hidrogeno: 88 %\n",
      "Promedio total: 81.0 %\n"
     ]
    }
   ],
   "source": [
    "#Función que recibe como parametros los datos ingresados por el usuario\n",
    "def promedio(dat1, dat2, dat3):\n",
    "    promedio=0.0\n",
    "    promedio= (dat1+dat2+dat3)/3\n",
    "\n",
    "    return promedio\n",
    "\n",
    "#Función para leer 3 tanques de combustible y mueste el promedio\n",
    "def reporte(tan_p, tan_e, tan_h):\n",
    "    aux_prom = promedio(tan_p, tan_e, tan_h)\n",
    "    \n",
    "    return f\"Reporte de combustible\\nTanque principal: {tan_p} %\\nTanque externo: {tan_e} %\\nTanque de hidrogeno: {tan_h} %\\nPromedio total: {round(aux_prom,2)} %\"\n",
    "\n",
    "tanque_principal = int(input(\"Ingrese la capacidad que tiene el tanque principal (0-100)\"))\n",
    "tanque_externo = int(input(\"Ingrese la capacidad que tiene el tanque externo (0-100)\"))\n",
    "tanque_hidrogeno = int(input(\"Ingrese la capacidad que tiene el tanque de hidrogeno (0-100)\"))\n",
    "\n",
    "#Se imprime el reporte, para ello se llama a la función pasando como argumentos\n",
    "#los datos que el usuario proporciono\n",
    "print(reporte(tanque_principal,tanque_externo,tanque_hidrogeno))\n",
    "\n",
    "\n",
    "\n"
   ]
  },
  {
   "cell_type": "markdown",
   "metadata": {},
   "source": [
    "### Ejercicio 2: Trabajo con argumentos de palabra clave.\n",
    "\n",
    "#### Ejercicio: Trabajar con argumentos de palabras clave en funciones.\n",
    "\n",
    "Construir un informe de cohete que require varias piezas de información, como el tiempo hasta el destino, el combustible a la izquierda y el nombre del destino."
   ]
  },
  {
   "cell_type": "code",
   "execution_count": 99,
   "metadata": {},
   "outputs": [
    {
     "name": "stdout",
     "output_type": "stream",
     "text": [
      "\n",
      "    ---------------------------------------------------------------------------\n",
      "    --> Destino de la misión: Moon    |   Duración total del vuelo: 65 minutos\n",
      "    ---------------------------------------------------------------------------\n",
      "    --> Combustible total: 500000 galones\n",
      "    --> Combustible del tanque interno 300000 galones\n",
      "    --> Combustible del tanque externo 200000 galones\n",
      "    \n",
      "\n",
      "Nuevo informe generado\n",
      "\n",
      "----------------------------------------------------------------------\n",
      "--> Destino de la misión: Moon    |     Tiempo de vuelo: 74 minutos\n",
      "----------------------------------------------------------------------\n",
      "--> Combustible total: 500000 galones\n",
      "    \n",
      "\n",
      " Informe mas detallado\n",
      "\n",
      "----------------------------------------------------------------------\n",
      "--> Destino de la misión: Moon    |     Tiempo de vuelo: 74 minutos\n",
      "----------------------------------------------------------------------\n",
      "--> Combustible total: 500000 galones\n",
      "--> Combustible interno: 200000 galones \n",
      "--> Combustible externo: 300000 galones\n"
     ]
    }
   ],
   "source": [
    "#Función con un informe preciso de la misión. Considera hora de prelanzamiento, tiempo de vuelo, destino, tanque externo, tanque interno\n",
    "\n",
    "def informe(hora_preLanz, time_v, destino, tanque_e, tanque_i):\n",
    "    return f\"\"\"\\n    {'-'*75}\n",
    "    --> Destino de la misión: {destino}    |   Duración total del vuelo: {hora_preLanz + time_v} minutos\n",
    "    {'-'*75}\n",
    "    --> Combustible total: {tanque_e + tanque_i} galones\n",
    "    --> Combustible del tanque interno {tanque_i} galones\n",
    "    --> Combustible del tanque externo {tanque_e} galones\n",
    "    \"\"\"\n",
    "\n",
    "print(informe(14, 51,\"Moon\", 200000, 300000))\n",
    "\n",
    "\n",
    "print(\"\\nNuevo informe generado\")\n",
    "def informe_detallado(destino, *minutos,**reserva_combustible):\n",
    "    tiempo_total = sum(minutos)\n",
    "\n",
    "    return f\"\"\"\\n{'-'*70}\\n--> Destino de la misión: {destino}    |     Tiempo de vuelo: {tiempo_total} minutos\\n{'-'*70}\\n--> Combustible total: {sum(reserva_combustible.values())} galones\n",
    "    \"\"\"\n",
    "\n",
    "print(informe_detallado(\"Moon\",8, 11, 55, interno=200000,externo=300000 ))\n",
    "\n",
    "\n",
    "print(\"\\n Informe mas detallado\")\n",
    "def informe_d(destino, *minutos,**reserva_combustible):\n",
    "    tiempo_total=0\n",
    "    tiempo_total = sum(minutos)\n",
    "\n",
    "    mensaje = f\"\"\"\\n{'-'*70}\\n--> Destino de la misión: {destino}    |     Tiempo de vuelo: {tiempo_total} minutos\\n{'-'*70}\\n--> Combustible total: {sum(reserva_combustible.values())} galones\"\"\"\n",
    "\n",
    "    combustible = mensaje + f\"\\n--> Combustible interno: {reserva_combustible.get('interno')} galones \\n--> Combustible externo: {reserva_combustible.get('externo')} galones\"\n",
    "    \n",
    "    return combustible\n",
    "\n",
    "print(informe_d(\"Moon\", 8, 11, 55, interno=200000, externo=300000 ))"
   ]
  }
 ],
 "metadata": {
  "interpreter": {
   "hash": "b89b5cfaba6639976dc87ff2fec6d58faec662063367e2c229c520fe71072417"
  },
  "kernelspec": {
   "display_name": "Python 3.10.2 64-bit",
   "language": "python",
   "name": "python3"
  },
  "language_info": {
   "codemirror_mode": {
    "name": "ipython",
    "version": 3
   },
   "file_extension": ".py",
   "mimetype": "text/x-python",
   "name": "python",
   "nbconvert_exporter": "python",
   "pygments_lexer": "ipython3",
   "version": "3.10.2"
  },
  "orig_nbformat": 4
 },
 "nbformat": 4,
 "nbformat_minor": 2
}
